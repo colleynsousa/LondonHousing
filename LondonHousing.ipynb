{
 "cells": [
  {
   "cell_type": "markdown",
   "metadata": {
    "colab_type": "text",
    "id": "Tia3MP1SJpgj"
   },
   "source": [
    "# Springboard Data Science Career Track Unit 4 Challenge - Tier 3 Complete\n",
    "\n",
    "## Objectives\n",
    "Hey! Great job getting through those challenging DataCamp courses. You're learning a lot in a short span of time. \n",
    "\n",
    "In this notebook, you're going to apply the skills you've been learning, bridging the gap between the controlled environment of DataCamp and the *slightly* messier work that data scientists do with actual datasets!\n",
    "\n",
    "Here’s the mystery we’re going to solve: ***which boroughs of London have seen the greatest increase in housing prices, on average, over the last two decades?***\n",
    "\n",
    "\n",
    "A borough is just a fancy word for district. You may be familiar with the five boroughs of New York… well, there are 32 boroughs within Greater London [(here's some info for the curious)](https://en.wikipedia.org/wiki/London_boroughs). Some of them are more desirable areas to live in, and the data will reflect that with a greater rise in housing prices.\n",
    "\n",
    "***This is the Tier 3 notebook, which means it's not filled in at all: we'll just give you the skeleton of a project, the brief and the data. It's up to you to play around with it and see what you can find out! Good luck! If you struggle, feel free to look at easier tiers for help; but try to dip in and out of them, as the more independent work you do, the better it is for your learning!***\n",
    "\n",
    "This challenge will make use of only what you learned in the following DataCamp courses: \n",
    "- Prework courses (Introduction to Python for Data Science, Intermediate Python for Data Science)\n",
    "- Data Types for Data Science\n",
    "- Python Data Science Toolbox (Part One) \n",
    "- pandas Foundations\n",
    "- Manipulating DataFrames with pandas\n",
    "- Merging DataFrames with pandas\n",
    "\n",
    "Of the tools, techniques and concepts in the above DataCamp courses, this challenge should require the application of the following: \n",
    "- **pandas**\n",
    "    - **data ingestion and inspection** (pandas Foundations, Module One) \n",
    "    - **exploratory data analysis** (pandas Foundations, Module Two)\n",
    "    - **tidying and cleaning** (Manipulating DataFrames with pandas, Module Three) \n",
    "    - **transforming DataFrames** (Manipulating DataFrames with pandas, Module One)\n",
    "    - **subsetting DataFrames with lists** (Manipulating DataFrames with pandas, Module One) \n",
    "    - **filtering DataFrames** (Manipulating DataFrames with pandas, Module One) \n",
    "    - **grouping data** (Manipulating DataFrames with pandas, Module Four) \n",
    "    - **melting data** (Manipulating DataFrames with pandas, Module Three) \n",
    "    - **advanced indexing** (Manipulating DataFrames with pandas, Module Four) \n",
    "- **matplotlib** (Intermediate Python for Data Science, Module One)\n",
    "- **fundamental data types** (Data Types for Data Science, Module One) \n",
    "- **dictionaries** (Intermediate Python for Data Science, Module Two)\n",
    "- **handling dates and times** (Data Types for Data Science, Module Four)\n",
    "- **function definition** (Python Data Science Toolbox - Part One, Module One)\n",
    "- **default arguments, variable length, and scope** (Python Data Science Toolbox - Part One, Module Two) \n",
    "- **lambda functions and error handling** (Python Data Science Toolbox - Part One, Module Four) "
   ]
  },
  {
   "cell_type": "markdown",
   "metadata": {
    "colab_type": "text",
    "id": "Ipgd2nV8Jpgl"
   },
   "source": [
    "## The Data Science Pipeline\n",
    "\n",
    "This is Tier Three, so we'll get you started. But after that, it's all in your hands! When you feel done with your investigations, look back over what you've accomplished, and prepare a quick presentation of your findings for the next mentor meeting. \n",
    "\n",
    "Data Science is magical. In this case study, you'll get to apply some complex machine learning algorithms. But as  [David Spiegelhalter](https://www.youtube.com/watch?v=oUs1uvsz0Ok) reminds us, there is no substitute for simply **taking a really, really good look at the data.** Sometimes, this is all we need to answer our question.\n",
    "\n",
    "Data Science projects generally adhere to the four stages of Data Science Pipeline:\n",
    "1. Sourcing and loading \n",
    "2. Cleaning, transforming, and visualizing \n",
    "3. Modeling \n",
    "4. Evaluating and concluding \n"
   ]
  },
  {
   "cell_type": "markdown",
   "metadata": {
    "colab_type": "text",
    "id": "zswDqbefJpgm"
   },
   "source": [
    "### 1. Sourcing and Loading \n",
    "\n",
    "Any Data Science project kicks off by importing  ***pandas***. The documentation of this wonderful library can be found [here](https://pandas.pydata.org/). As you've seen, pandas is conveniently connected to the [Numpy](http://www.numpy.org/) and [Matplotlib](https://matplotlib.org/) libraries. \n",
    "\n",
    "***Hint:*** This part of the data science pipeline will test those skills you acquired in the pandas Foundations course, Module One. "
   ]
  },
  {
   "cell_type": "markdown",
   "metadata": {
    "colab_type": "text",
    "id": "aEau5nEvJpgm"
   },
   "source": [
    "#### 1.1. Importing Libraries"
   ]
  },
  {
   "cell_type": "code",
   "execution_count": 88,
   "metadata": {
    "colab": {},
    "colab_type": "code",
    "id": "7Bt_Q_oPJpgn"
   },
   "outputs": [],
   "source": [
    "# Let's import the pandas, numpy libraries as pd, and np respectively. \n",
    "import numpy as np \n",
    "import pandas as pd\n",
    "\n",
    "# Load the pyplot collection of functions from matplotlib, as plt \n",
    "import matplotlib.pyplot as plt\n",
    "\n",
    "import requests  \n",
    "from io import BytesIO  "
   ]
  },
  {
   "cell_type": "markdown",
   "metadata": {
    "colab_type": "text",
    "id": "koUrawxsJpgq"
   },
   "source": [
    "#### 1.2.  Loading the data\n",
    "Your data comes from the [London Datastore](https://data.london.gov.uk/): a free, open-source data-sharing portal for London-oriented datasets. "
   ]
  },
  {
   "cell_type": "code",
   "execution_count": 89,
   "metadata": {
    "colab": {},
    "colab_type": "code",
    "id": "AiLiD4v3Jpgr"
   },
   "outputs": [],
   "source": [
    "# First, make a variable called url_LondonHousePrices, and assign it the following link, enclosed in quotation-marks as a string:\n",
    "# https://data.london.gov.uk/download/uk-house-price-index/70ac0766-8902-4eb5-aab5-01951aaed773/UK%20House%20price%20index.xls\n",
    "\n",
    "#url_LondonHousePrices = \"https://data.london.gov.uk/download/uk-house-price-index/70ac0766-8902-4eb5-aab5-01951aaed773/UK%20House%20price%20index.xls\"\n",
    "url_LondonHousePrices= BytesIO(requests.get(\"https://data.london.gov.uk/download/uk-house-price-index/70ac0766-8902-4eb5-aab5-01951aaed773/UK%20House%20price%20index.xls\").content)\n",
    "# The dataset we're interested in contains the Average prices of the houses, and is actually on a particular sheet of the Excel file. \n",
    "# As a result, we need to specify the sheet name in the read_excel() method.\n",
    "# Put this data into a variable called properties.  \n",
    "properties = pd.read_excel(url_LondonHousePrices, sheet_name='Average price', index_col= None)"
   ]
  },
  {
   "cell_type": "markdown",
   "metadata": {
    "colab_type": "text",
    "id": "POukEJXgJpgu"
   },
   "source": [
    "### 2. Cleaning, transforming, and visualizing\n",
    "This second stage is arguably the most important part of any Data Science project. The first thing to do is take a proper look at the data. Cleaning forms the majority of this stage, and can be done both before or after Transformation.\n",
    "\n",
    "The end goal of data cleaning is to have tidy data. When data is tidy: \n",
    "\n",
    "1. Each variable has a column.\n",
    "2. Each observation forms a row.\n",
    "\n",
    "Keep the end goal in mind as you move through this process, every step will take you closer. \n",
    "\n",
    "\n",
    "\n",
    "***Hint:*** This part of the data science pipeline should test those skills you acquired in: \n",
    "- Intermediate Python for data science, all modules.\n",
    "- pandas Foundations, all modules. \n",
    "- Manipulating DataFrames with pandas, all modules.\n",
    "- Data Types for Data Science, Module Four.\n",
    "- Python Data Science Toolbox - Part One, all modules"
   ]
  },
  {
   "cell_type": "markdown",
   "metadata": {
    "colab_type": "text",
    "id": "Te0Q548tnzZa"
   },
   "source": [
    "**2.1. Exploring your data** \n",
    "\n",
    "Think about your pandas functions for checking out a dataframe. "
   ]
  },
  {
   "cell_type": "code",
   "execution_count": 90,
   "metadata": {
    "colab": {},
    "colab_type": "code",
    "id": "Rxirxw_qoAJa"
   },
   "outputs": [
    {
     "name": "stdout",
     "output_type": "stream",
     "text": [
      "Quick view: \n",
      "   Unnamed: 0 City of London Barking & Dagenham     Barnet     Bexley  \\\n",
      "0        NaT      E09000001          E09000002  E09000003  E09000004   \n",
      "1 1995-01-01          90347              51870      98948      64956   \n",
      "2 1995-02-01          81213              52513      98848      64786   \n",
      "3 1995-03-01          78168              52701      97848      64366   \n",
      "4 1995-04-01          76172              54618      96273      64276   \n",
      "\n",
      "       Brent    Bromley     Camden    Croydon     Ealing  ... NORTH WEST  \\\n",
      "0  E09000005  E09000006  E09000007  E09000008  E09000009  ...  E12000002   \n",
      "1      76880      83082     119775      70118      85469  ...      40907   \n",
      "2      77651      83068     118365      69908      86551  ...      40877   \n",
      "3      77644      82856     119131      69666      87067  ...      41351   \n",
      "4      78668      82525     118948      69562      87933  ...      41195   \n",
      "\n",
      "  YORKS & THE HUMBER EAST MIDLANDS WEST MIDLANDS EAST OF ENGLAND     LONDON  \\\n",
      "0          E12000003     E12000004     E12000005       E12000006  E12000007   \n",
      "1              42171         43856         46470           56098      79687   \n",
      "2              41912         44344         47249           55991      77913   \n",
      "3              42544         43701         47345           55574      79110   \n",
      "4              42934         44414         47359           55966      79708   \n",
      "\n",
      "  SOUTH EAST SOUTH WEST Unnamed: 47    England  \n",
      "0  E12000008  E12000009         NaN  E92000001  \n",
      "1      64502      52799         NaN      50231  \n",
      "2      64196      52462         NaN      50130  \n",
      "3      64597      51716         NaN      50229  \n",
      "4      65111      52877         NaN      50597  \n",
      "\n",
      "[5 rows x 49 columns]\n",
      "\n",
      "Look at shape: \n",
      " (362, 49)\n",
      "\n",
      "Column names: \n",
      " Index(['Unnamed: 0', 'City of London', 'Barking & Dagenham', 'Barnet',\n",
      "       'Bexley', 'Brent', 'Bromley', 'Camden', 'Croydon', 'Ealing', 'Enfield',\n",
      "       'Greenwich', 'Hackney', 'Hammersmith & Fulham', 'Haringey', 'Harrow',\n",
      "       'Havering', 'Hillingdon', 'Hounslow', 'Islington',\n",
      "       'Kensington & Chelsea', 'Kingston upon Thames', 'Lambeth', 'Lewisham',\n",
      "       'Merton', 'Newham', 'Redbridge', 'Richmond upon Thames', 'Southwark',\n",
      "       'Sutton', 'Tower Hamlets', 'Waltham Forest', 'Wandsworth',\n",
      "       'Westminster', 'Unnamed: 34', 'Inner London', 'Outer London',\n",
      "       'Unnamed: 37', 'NORTH EAST', 'NORTH WEST', 'YORKS & THE HUMBER',\n",
      "       'EAST MIDLANDS', 'WEST MIDLANDS', 'EAST OF ENGLAND', 'LONDON',\n",
      "       'SOUTH EAST', 'SOUTH WEST', 'Unnamed: 47', 'England'],\n",
      "      dtype='object')\n"
     ]
    }
   ],
   "source": [
    "print(\"Quick view: \\n\", properties.head())\n",
    "print(\"\\nLook at shape: \\n\", properties.shape)\n",
    "print(\"\\nColumn names: \\n\", properties.columns)"
   ]
  },
  {
   "cell_type": "markdown",
   "metadata": {
    "colab_type": "text",
    "id": "tE9Sqt9-oAta"
   },
   "source": [
    "**2.2. Cleaning the data**\n",
    "\n",
    "You might find you need to transpose your dataframe, check out what its row indexes are, and reset the index. You  also might find you need to assign the values of the first row to your column headings  . (Hint: recall the .columns feature of DataFrames, as well as the iloc[] method).\n",
    "\n",
    "Don't be afraid to use StackOverflow for help  with this."
   ]
  },
  {
   "cell_type": "code",
   "execution_count": null,
   "metadata": {
    "colab": {},
    "colab_type": "code",
    "id": "cdAu1A3YoH_r"
   },
   "outputs": [
    {
     "name": "stdout",
     "output_type": "stream",
     "text": [
      "                                    1                    2    \\\n",
      "Unnamed: 0          1995-01-01 00:00:00  1995-02-01 00:00:00   \n",
      "City of London                    90347                81213   \n",
      "Barking & Dagenham                51870                52513   \n",
      "Barnet                            98948                98848   \n",
      "Bexley                            64956                64786   \n",
      "\n",
      "                                    3                    4    \\\n",
      "Unnamed: 0          1995-03-01 00:00:00  1995-04-01 00:00:00   \n",
      "City of London                    78168                76172   \n",
      "Barking & Dagenham                52701                54618   \n",
      "Barnet                            97848                96273   \n",
      "Bexley                            64366                64276   \n",
      "\n",
      "                                    5                    6    \\\n",
      "Unnamed: 0          1995-05-01 00:00:00  1995-06-01 00:00:00   \n",
      "City of London                    83392                93757   \n",
      "Barking & Dagenham                54524                55200   \n",
      "Barnet                            95737                95577   \n",
      "Bexley                            63995                64251   \n",
      "\n",
      "                                    7                    8    \\\n",
      "Unnamed: 0          1995-07-01 00:00:00  1995-08-01 00:00:00   \n",
      "City of London                   108801               110976   \n",
      "Barking & Dagenham                53569                53691   \n",
      "Barnet                            96992                97968   \n",
      "Bexley                            63721                64431   \n",
      "\n",
      "                                    9                    10   ...  \\\n",
      "Unnamed: 0          1995-09-01 00:00:00  1995-10-01 00:00:00  ...   \n",
      "City of London                   103215               106737  ...   \n",
      "Barking & Dagenham                52909                52953  ...   \n",
      "Barnet                            98936                98187  ...   \n",
      "Bexley                            64508                64528  ...   \n",
      "\n",
      "                                    352                  353  \\\n",
      "Unnamed: 0          2024-04-01 00:00:00  2024-05-01 00:00:00   \n",
      "City of London                   906682               890881   \n",
      "Barking & Dagenham               344029               342471   \n",
      "Barnet                           610143               617515   \n",
      "Bexley                           396790               395029   \n",
      "\n",
      "                                    354                  355  \\\n",
      "Unnamed: 0          2024-06-01 00:00:00  2024-07-01 00:00:00   \n",
      "City of London                   821191               749029   \n",
      "Barking & Dagenham               337468               332788   \n",
      "Barnet                           619324               623551   \n",
      "Bexley                           399510               398542   \n",
      "\n",
      "                                    356                  357  \\\n",
      "Unnamed: 0          2024-08-01 00:00:00  2024-09-01 00:00:00   \n",
      "City of London                   727214               715165   \n",
      "Barking & Dagenham               325557               330914   \n",
      "Barnet                           628124               625854   \n",
      "Bexley                           404304               406573   \n",
      "\n",
      "                                    358                  359  \\\n",
      "Unnamed: 0          2024-10-01 00:00:00  2024-11-01 00:00:00   \n",
      "City of London                   698786               698826   \n",
      "Barking & Dagenham               344488               356482   \n",
      "Barnet                           626818               628529   \n",
      "Bexley                           409095               406993   \n",
      "\n",
      "                                    360                  361  \n",
      "Unnamed: 0          2024-12-01 00:00:00  2025-01-01 00:00:00  \n",
      "City of London                   811537               832241  \n",
      "Barking & Dagenham               355385               353442  \n",
      "Barnet                           623055               613205  \n",
      "Bexley                           404921               406363  \n",
      "\n",
      "[5 rows x 361 columns]\n"
     ]
    }
   ],
   "source": [
    "properties=properties.drop(0) #drop first row (don't need those codes)\n",
    "properties=properties.iloc[:,0:34] #grab only the london boroughs data - the rest are not london boroughs\n",
    "properties=properties.transpose() #transpose the data: columns are dates, rows are boroughs\n",
    "print(properties.head())"
   ]
  },
  {
   "cell_type": "markdown",
   "metadata": {
    "colab_type": "text",
    "id": "o1uLbJAsoIjK"
   },
   "source": [
    "**2.3. Cleaning the data (part 2)**\n",
    "\n",
    "You might we have to **rename** a couple columns. How do you do this? The clue's pretty bold..."
   ]
  },
  {
   "cell_type": "code",
   "execution_count": 92,
   "metadata": {
    "colab": {},
    "colab_type": "code",
    "id": "GKkmn1AnoVZS"
   },
   "outputs": [
    {
     "name": "stdout",
     "output_type": "stream",
     "text": [
      "Unnamed: 0      London_Borough 1995-01-01 00:00:00 1995-02-01 00:00:00  \\\n",
      "0               City of London               90347               81213   \n",
      "1           Barking & Dagenham               51870               52513   \n",
      "2                       Barnet               98948               98848   \n",
      "3                       Bexley               64956               64786   \n",
      "4                        Brent               76880               77651   \n",
      "\n",
      "Unnamed: 0 1995-03-01 00:00:00 1995-04-01 00:00:00 1995-05-01 00:00:00  \\\n",
      "0                        78168               76172               83392   \n",
      "1                        52701               54618               54524   \n",
      "2                        97848               96273               95737   \n",
      "3                        64366               64276               63995   \n",
      "4                        77644               78668               79464   \n",
      "\n",
      "Unnamed: 0 1995-06-01 00:00:00 1995-07-01 00:00:00 1995-08-01 00:00:00  \\\n",
      "0                        93757              108801              110976   \n",
      "1                        55200               53569               53691   \n",
      "2                        95577               96992               97968   \n",
      "3                        64251               63721               64431   \n",
      "4                        80118               79920               79295   \n",
      "\n",
      "Unnamed: 0 1995-09-01 00:00:00  ... 2024-04-01 00:00:00 2024-05-01 00:00:00  \\\n",
      "0                       103215  ...              906682              890881   \n",
      "1                        52909  ...              344029              342471   \n",
      "2                        98936  ...              610143              617515   \n",
      "3                        64508  ...              396790              395029   \n",
      "4                        79557  ...              541329              539206   \n",
      "\n",
      "Unnamed: 0 2024-06-01 00:00:00 2024-07-01 00:00:00 2024-08-01 00:00:00  \\\n",
      "0                       821191              749029              727214   \n",
      "1                       337468              332788              325557   \n",
      "2                       619324              623551              628124   \n",
      "3                       399510              398542              404304   \n",
      "4                       566566              569031              581099   \n",
      "\n",
      "Unnamed: 0 2024-09-01 00:00:00 2024-10-01 00:00:00 2024-11-01 00:00:00  \\\n",
      "0                       715165              698786              698826   \n",
      "1                       330914              344488              356482   \n",
      "2                       625854              626818              628529   \n",
      "3                       406573              409095              406993   \n",
      "4                       585990              595453              594264   \n",
      "\n",
      "Unnamed: 0 2024-12-01 00:00:00 2025-01-01 00:00:00  \n",
      "0                       811537              832241  \n",
      "1                       355385              353442  \n",
      "2                       623055              613205  \n",
      "3                       404921              406363  \n",
      "4                       573146              576271  \n",
      "\n",
      "[5 rows x 362 columns]\n"
     ]
    }
   ],
   "source": [
    "properties.columns=properties.iloc[0] #Set first row as columns\n",
    "properties=properties.drop(properties.index[0]) #Now drop first row since it's the dates\n",
    "properties=properties.drop(columns=['Unnamed: 0'],errors='ignore') #had to add this\n",
    "properties.reset_index(inplace=True) #reset index so that London_Borough is a column\n",
    "properties.rename(columns={properties.columns[0]: 'London_Borough'}, inplace=True) #Make first column name 'London_Borough'\n",
    "print(properties.head())\n",
    "#now we have the boroughs as the first column, and the dates as the remaining columns"
   ]
  },
  {
   "cell_type": "markdown",
   "metadata": {
    "colab_type": "text",
    "id": "jy8BzXHmoWEw"
   },
   "source": [
    "**2.4.Transforming the data**\n",
    "\n",
    "Remember what Wes McKinney said about tidy data? \n",
    "\n",
    "You might need to **melt** your DataFrame here. "
   ]
  },
  {
   "cell_type": "code",
   "execution_count": 93,
   "metadata": {
    "colab": {},
    "colab_type": "code",
    "id": "S2wM0qLuo2Zt"
   },
   "outputs": [
    {
     "name": "stdout",
     "output_type": "stream",
     "text": [
      "          London_Borough       Date Avg. Price\n",
      "0         City of London 1995-01-01      90347\n",
      "1     Barking & Dagenham 1995-01-01      51870\n",
      "2                 Barnet 1995-01-01      98948\n",
      "3                 Bexley 1995-01-01      64956\n",
      "4                  Brent 1995-01-01      76880\n",
      "5                Bromley 1995-01-01      83082\n",
      "6                 Camden 1995-01-01     119775\n",
      "7                Croydon 1995-01-01      70118\n",
      "8                 Ealing 1995-01-01      85469\n",
      "9                Enfield 1995-01-01      77018\n",
      "10             Greenwich 1995-01-01      65784\n",
      "11               Hackney 1995-01-01      63375\n",
      "12  Hammersmith & Fulham 1995-01-01     129363\n",
      "13              Haringey 1995-01-01      81997\n",
      "14                Harrow 1995-01-01      86737\n",
      "15              Havering 1995-01-01      68980\n",
      "16            Hillingdon 1995-01-01      75819\n",
      "17              Hounslow 1995-01-01      82041\n",
      "18             Islington 1995-01-01      92577\n",
      "19  Kensington & Chelsea 1995-01-01     197675\n",
      "20  Kingston upon Thames 1995-01-01      85184\n",
      "21               Lambeth 1995-01-01      72550\n",
      "22              Lewisham 1995-01-01      64192\n",
      "23                Merton 1995-01-01      87732\n",
      "24                Newham 1995-01-01      55939\n",
      "25             Redbridge 1995-01-01      70909\n",
      "26  Richmond upon Thames 1995-01-01     115973\n",
      "27             Southwark 1995-01-01      78355\n",
      "28                Sutton 1995-01-01      72321\n",
      "29         Tower Hamlets 1995-01-01      65716\n",
      "30        Waltham Forest 1995-01-01      63315\n",
      "31            Wandsworth 1995-01-01     101607\n",
      "32           Westminster 1995-01-01     141417\n",
      "33        City of London 1995-02-01      81213\n",
      "34    Barking & Dagenham 1995-02-01      52513\n"
     ]
    }
   ],
   "source": [
    "properties_melted=properties.melt(id_vars=['London_Borough'],var_name='Date',value_name='Avg. Price') #melt\n",
    "print(properties_melted.head(35)) #visualize to double check"
   ]
  },
  {
   "cell_type": "markdown",
   "metadata": {
    "colab_type": "text",
    "id": "7kIsgAo7o3mf"
   },
   "source": [
    "Remember to make sure your column data types are all correct. Average prices, for example, should be floating point numbers... "
   ]
  },
  {
   "cell_type": "code",
   "execution_count": 94,
   "metadata": {
    "colab": {},
    "colab_type": "code",
    "id": "ZcR4IHbcpOaq"
   },
   "outputs": [
    {
     "name": "stdout",
     "output_type": "stream",
     "text": [
      "London_Borough            object\n",
      "Date              datetime64[ns]\n",
      "Avg. Price                object\n",
      "dtype: object\n",
      "London_Borough            object\n",
      "Date              datetime64[ns]\n",
      "Avg. Price               float64\n",
      "dtype: object\n"
     ]
    }
   ],
   "source": [
    "print(properties_melted.dtypes) #see that Avg. Price is \"object\"\n",
    "properties_melted['Avg. Price'] = pd.to_numeric(properties_melted['Avg. Price'].astype(float))\n",
    "print(properties_melted.dtypes) #check again and see that it's now float"
   ]
  },
  {
   "cell_type": "markdown",
   "metadata": {
    "colab_type": "text",
    "id": "knLUXHLypOtw"
   },
   "source": [
    "**2.5. Cleaning the data (part 3)**\n",
    "\n",
    "Do we have an equal number of observations in the ID, Average Price, Month, and London Borough columns? Remember that there are only 32 London Boroughs. How many entries do you have in that column? \n",
    "\n",
    "Check out the contents of the London Borough column, and if you find null values, get rid of them however you see fit. "
   ]
  },
  {
   "cell_type": "code",
   "execution_count": 99,
   "metadata": {
    "colab": {},
    "colab_type": "code",
    "id": "BnvTW5a3p0fC"
   },
   "outputs": [
    {
     "name": "stdout",
     "output_type": "stream",
     "text": [
      "London_Borough    11913\n",
      "Date              11913\n",
      "Avg. Price        11913\n",
      "dtype: int64\n",
      "33\n",
      "0\n"
     ]
    }
   ],
   "source": [
    "print(properties_melted.count()) #confirm we have the same number of entries in each column\n",
    "print(properties_melted['London_Borough'].nunique()) #check the number of unique borough names\n",
    "#We see that we have 33 boroughs, which is counting \"City of London\" separately, so we have 32 boroughs as required\n",
    "print(properties_melted['London_Borough'].isnull().sum()) #confirm there are no null values (we already subsetted the dataframe)"
   ]
  },
  {
   "cell_type": "markdown",
   "metadata": {
    "colab_type": "text",
    "id": "PGEx6mJsp6dG"
   },
   "source": [
    "**2.6. Visualizing the data**\n",
    "\n",
    "To visualize the data, why not subset on a particular London Borough? Maybe do a line plot of Month against Average Price?"
   ]
  },
  {
   "cell_type": "code",
   "execution_count": 102,
   "metadata": {
    "colab": {},
    "colab_type": "code",
    "id": "nAg5pT9cqHAR"
   },
   "outputs": [
    {
     "data": {
      "image/png": "[encoded data removed]",
      "text/plain": [
       "<Figure size 720x432 with 1 Axes>"
      ]
     },
     "metadata": {
      "needs_background": "light"
     },
     "output_type": "display_data"
    }
   ],
   "source": [
    "camden_data=properties_melted[properties_melted['London_Borough']=='Camden']\n",
    "plt.figure(figsize=(10,6))\n",
    "plt.plot(camden_data['Date'],camden_data['Avg. Price'],marker='o',color='red')\n",
    "plt.title('Average Price vs. Month for Camden')\n",
    "plt.xlabel('Year')\n",
    "plt.ylabel('Average Price')\n",
    "plt.grid(True)\n",
    "plt.show()"
   ]
  },
  {
   "cell_type": "markdown",
   "metadata": {
    "colab_type": "text",
    "id": "aWTPqSJeqHnC"
   },
   "source": [
    "To limit the number of data points you have, you might want to extract the year from every month value your *Month* column. \n",
    "\n",
    "To this end, you *could* apply a ***lambda function***. Your logic could work as follows:\n",
    "1. look through the `Month` column\n",
    "2. extract the year from each individual value in that column \n",
    "3. store that corresponding year as separate column. \n",
    "\n",
    "Whether you go ahead with this is up to you. Just so long as you answer our initial brief: which boroughs of London have seen the greatest house price increase, on average, over the past two decades? "
   ]
  },
  {
   "cell_type": "code",
   "execution_count": 0,
   "metadata": {
    "colab": {},
    "colab_type": "code",
    "id": "e0DF92cyqnu8"
   },
   "outputs": [],
   "source": []
  },
  {
   "cell_type": "markdown",
   "metadata": {
    "colab_type": "text",
    "id": "2knuTxAEqoJ4"
   },
   "source": [
    "**3. Modeling**\n",
    "\n",
    "Consider creating a function that will calculate a ratio of house prices, comparing the price of a house in 2018 to the price in 1998.\n",
    "\n",
    "Consider calling this function create_price_ratio.\n",
    "\n",
    "You'd want this function to:\n",
    "1. Take a filter of dfg, specifically where this filter constrains the London_Borough, as an argument. For example, one admissible argument should be: dfg[dfg['London_Borough']=='Camden'].\n",
    "2. Get the Average Price for that Borough, for the years 1998 and 2018.\n",
    "4. Calculate the ratio of the Average Price for 1998 divided by the Average Price for 2018.\n",
    "5. Return that ratio.\n",
    "\n",
    "Once you've written this function, you ultimately want to use it to iterate through all the unique London_Boroughs and work out the ratio capturing the difference of house prices between 1998 and 2018.\n",
    "\n",
    "Bear in mind: you don't have to write a function like this if you don't want to. If you can solve the brief otherwise, then great! \n",
    "\n",
    "***Hint***: This section should test the skills you acquired in:\n",
    "- Python Data Science Toolbox - Part One, all modules"
   ]
  },
  {
   "cell_type": "code",
   "execution_count": 104,
   "metadata": {
    "colab": {},
    "colab_type": "code",
    "id": "cKTyr437UgDa"
   },
   "outputs": [
    {
     "data": {
      "image/png": "[encoded data removed]",
      "text/plain": [
       "<Figure size 864x576 with 1 Axes>"
      ]
     },
     "metadata": {
      "needs_background": "light"
     },
     "output_type": "display_data"
    },
    {
     "name": "stdout",
     "output_type": "stream",
     "text": [
      "Borough with the Greatest House Price Increase: Hackney\n",
      "Price Ratio (1998 / 2018): 0.16133368258111871\n"
     ]
    }
   ],
   "source": [
    "def price_ratio(data): \n",
    "    price_98=data[data['Date'].dt.year==1998]['Avg. Price'].mean()\n",
    "    price_18=data[data['Date'].dt.year==2018]['Avg. Price'].mean()\n",
    "    \n",
    "    if price_98 is not None and price_18 is not None:\n",
    "        return price_98/price_18\n",
    "    else: \n",
    "        return None\n",
    "\n",
    "ratios={}\n",
    "\n",
    "for borough in properties_melted['London_Borough'].unique():\n",
    "    data=properties_melted[properties_melted['London_Borough']==borough]\n",
    "    ratio=price_ratio(data)\n",
    "    ratios[borough]=ratio\n",
    "    \n",
    "ratios_df=pd.DataFrame(list(ratios.items()),columns=['London_Borough','Price Ratio'])\n",
    "ratios_df=ratios_df.sort_values(by='Price Ratio',ascending=False)\n",
    "\n",
    "plt.figure(figsize=(12,8))\n",
    "plt.barh(ratios_df['London_Borough'],ratios_df['Price Ratio'])\n",
    "\n",
    "plt.xlabel('Price Ratio (1998/2018)')\n",
    "plt.ylabel('London Borough')\n",
    "plt.title('Price Ratio of Houses in 1998 vs 2018 for each London Borough')\n",
    "\n",
    "plt.show()\n",
    "\n",
    "min_ratio=ratios_df.loc[ratios_df['Price Ratio'].idxmin()] #minimum ratio means the greatest increase\n",
    "print(f\"Borough with the Greatest House Price Increase: {min_ratio['London_Borough']}\")\n",
    "print(f\"Price Ratio (1998 / 2018): {min_ratio['Price Ratio']}\")"
   ]
  },
  {
   "cell_type": "markdown",
   "metadata": {
    "colab_type": "text",
    "id": "NzYUI7FxJpgv"
   },
   "source": [
    "### 4. Conclusion\n",
    "What can you conclude? Type out your conclusion below. \n",
    "\n",
    "Look back at your notebook. Think about how you might summarize what you have done, and prepare a quick presentation on it to your mentor at your next meeting. \n",
    "\n",
    "We hope you enjoyed this practical project. It should have consolidated your data hygiene and pandas skills by looking at a real-world problem involving just the kind of dataset you might encounter as a budding data scientist. Congratulations, and looking forward to seeing you at the next step in the course! "
   ]
  },
  {
   "cell_type": "markdown",
   "metadata": {},
   "source": [
    "From our analysis, we determined that the London borough which has seen the greatest average house price increase from 1998 to 2018 is HACKNEY. We also determined that every London borough has seen a drastic increase in these average prices, as all of the ratios of the prices from 1998/2018 are below 1 (and nearly all are below 0.25 even).\n",
    "\n",
    "The first step in our analysis was to visualize the data. We did this by showing a snippet of the information contained in the dataframe. We then needed to filter out unnecessary data. We removed the ID row, and all columns which were not associated with one of the 32 (33 if you include \"City of London\") boroughs. We then transposed the data, such that the first column contained the respective borough names, and all other column contained the average values for each month. We then \"melted\" the data, so that we have three well-defined columns: Borough, Date, Average Price. Finally, we checked for null values, ensured that our data types were consistent with the upcoming analysis method, and verified that each column has the same number of entries. Finally, we defined a function to determine the ratio of the average (of averages) price for each month, for each borough. Utilizing our function, we inserted the ratios in a dictionary, which we then turned into a dataframe for ease of handling. We finally created a bar plot of our ratio data, to visualize the results. The bar plot, along with our method for searching for the minimum ratio value, showed that Hackney was the \"winner\", i.e the London borough with the smallest ratio of 1998-Price/2018-Price, or the largest average increase since 1998. "
   ]
  },
  {
   "cell_type": "markdown",
   "metadata": {},
   "source": []
  }
 ],
 "metadata": {
  "colab": {
   "collapsed_sections": [],
   "name": "Springboard Data Science Career Track Unit 4 Challenge - Tier 3 Complete .ipynb",
   "provenance": []
  },
  "kernelspec": {
   "display_name": "nameOfEnv",
   "language": "python",
   "name": "nameofenv"
  },
  "language_info": {
   "codemirror_mode": {
    "name": "ipython",
    "version": 3
   },
   "file_extension": ".py",
   "mimetype": "text/x-python",
   "name": "python",
   "nbconvert_exporter": "python",
   "pygments_lexer": "ipython3",
   "version": "3.8.3"
  }
 },
 "nbformat": 4,
 "nbformat_minor": 0
}
